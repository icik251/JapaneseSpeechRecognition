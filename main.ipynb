{
 "cells": [
  {
   "cell_type": "code",
   "execution_count": 2,
   "metadata": {},
   "outputs": [
    {
     "name": "stdout",
     "output_type": "stream",
     "text": [
      "True\n",
      "False\n"
     ]
    }
   ],
   "source": [
    "import numpy as np\n",
    "import pandas as pd\n",
    "import os\n",
    "import torch\n",
    "\n",
    "print(torch.backends.cudnn.enabled)\n",
    "print(torch.cuda.is_available())"
   ]
  },
  {
   "cell_type": "code",
   "execution_count": 2,
   "metadata": {},
   "outputs": [
    {
     "ename": "FileNotFoundError",
     "evalue": "[Errno 2] No such file or directory: 'Data\\\\dict_of_cc_dicts_list_of_timestep_values.pkl'",
     "output_type": "error",
     "traceback": [
      "\u001b[0;31m---------------------------------------------------------------------------\u001b[0m",
      "\u001b[0;31mFileNotFoundError\u001b[0m                         Traceback (most recent call last)",
      "\u001b[0;32m<ipython-input-2-779d686f544f>\u001b[0m in \u001b[0;36m<module>\u001b[0;34m\u001b[0m\n\u001b[1;32m      8\u001b[0m     \u001b[0mlist_of_trains\u001b[0m \u001b[0;34m=\u001b[0m \u001b[0mpickle\u001b[0m\u001b[0;34m.\u001b[0m\u001b[0mload\u001b[0m\u001b[0;34m(\u001b[0m\u001b[0mhandle\u001b[0m\u001b[0;34m)\u001b[0m\u001b[0;34m\u001b[0m\u001b[0;34m\u001b[0m\u001b[0m\n\u001b[1;32m      9\u001b[0m \u001b[0;34m\u001b[0m\u001b[0m\n\u001b[0;32m---> 10\u001b[0;31m \u001b[0mprocessing_missing_data_obj\u001b[0m \u001b[0;34m=\u001b[0m \u001b[0mProcessingMissingData\u001b[0m\u001b[0;34m(\u001b[0m\u001b[0;34m)\u001b[0m\u001b[0;34m\u001b[0m\u001b[0;34m\u001b[0m\u001b[0m\n\u001b[0m\u001b[1;32m     11\u001b[0m \u001b[0mlist_of_missing_vals_processed_trains_concat\u001b[0m \u001b[0;34m=\u001b[0m \u001b[0mprocessing_missing_data_obj\u001b[0m\u001b[0;34m.\u001b[0m\u001b[0mget_processed_dataset_as_list_of_vectors\u001b[0m\u001b[0;34m(\u001b[0m\u001b[0mlist_of_data\u001b[0m\u001b[0;34m=\u001b[0m\u001b[0mlist_of_trains\u001b[0m\u001b[0;34m,\u001b[0m \u001b[0mtype\u001b[0m\u001b[0;34m=\u001b[0m\u001b[0;34m'mean'\u001b[0m\u001b[0;34m)\u001b[0m\u001b[0;34m\u001b[0m\u001b[0;34m\u001b[0m\u001b[0m\n\u001b[1;32m     12\u001b[0m \u001b[0;34m\u001b[0m\u001b[0m\n",
      "\u001b[0;32m~/Documents/RUG/Master/ML/Project/JapaneseSpeechRecognition/processing_missing_data.py\u001b[0m in \u001b[0;36m__init__\u001b[0;34m(self)\u001b[0m\n\u001b[1;32m      5\u001b[0m     \u001b[0;32mdef\u001b[0m \u001b[0m__init__\u001b[0m\u001b[0;34m(\u001b[0m\u001b[0mself\u001b[0m\u001b[0;34m)\u001b[0m\u001b[0;34m:\u001b[0m\u001b[0;34m\u001b[0m\u001b[0;34m\u001b[0m\u001b[0m\n\u001b[1;32m      6\u001b[0m         \u001b[0;31m## Load the dictionary that we need for predicting values\u001b[0m\u001b[0;34m\u001b[0m\u001b[0;34m\u001b[0m\u001b[0;34m\u001b[0m\u001b[0m\n\u001b[0;32m----> 7\u001b[0;31m         \u001b[0;32mwith\u001b[0m \u001b[0mopen\u001b[0m\u001b[0;34m(\u001b[0m\u001b[0;34m'Data\\\\dict_of_cc_dicts_list_of_timestep_values.pkl'\u001b[0m\u001b[0;34m,\u001b[0m \u001b[0;34m'rb'\u001b[0m\u001b[0;34m)\u001b[0m \u001b[0;32mas\u001b[0m \u001b[0mhandle\u001b[0m\u001b[0;34m:\u001b[0m\u001b[0;34m\u001b[0m\u001b[0;34m\u001b[0m\u001b[0m\n\u001b[0m\u001b[1;32m      8\u001b[0m             \u001b[0mself\u001b[0m\u001b[0;34m.\u001b[0m\u001b[0mdict_of_cc_dicts_modified\u001b[0m \u001b[0;34m=\u001b[0m \u001b[0mpickle\u001b[0m\u001b[0;34m.\u001b[0m\u001b[0mload\u001b[0m\u001b[0;34m(\u001b[0m\u001b[0mhandle\u001b[0m\u001b[0;34m)\u001b[0m\u001b[0;34m\u001b[0m\u001b[0;34m\u001b[0m\u001b[0m\n\u001b[1;32m      9\u001b[0m \u001b[0;34m\u001b[0m\u001b[0m\n",
      "\u001b[0;31mFileNotFoundError\u001b[0m: [Errno 2] No such file or directory: 'Data\\\\dict_of_cc_dicts_list_of_timestep_values.pkl'"
     ]
    }
   ],
   "source": [
    "from processing_missing_data import ProcessingMissingData\n",
    "import pickle\n",
    "## Processing the dataset with the class ProcessingMissingData\n",
    "\n",
    "## Load train data\n",
    "## Process the data with the sampler and segmenter\n",
    "with open('Data'+os.sep+'train_inputs.pkl', 'rb') as handle:\n",
    "    list_of_trains = pickle.load(handle)\n",
    "\n",
    "processing_missing_data_obj = ProcessingMissingData()\n",
    "list_of_missing_vals_processed_trains_concat = processing_missing_data_obj.get_processed_dataset_as_list_of_vectors(list_of_data=list_of_trains, type='mean')\n",
    "\n",
    "list_of_missing_preprocessed_trains = processing_missing_data_obj.get_processed_dataset(list_of_data=list_of_trains, type='mean')"
   ]
  },
  {
   "cell_type": "code",
   "execution_count": 3,
   "metadata": {},
   "outputs": [],
   "source": [
    "from person_processing import PersonProcessing\n",
    "import pickle\n",
    "\n",
    "## Process the data with the sampler and segmenter\n",
    "with open('Data'+os.sep+'train_inputs.pkl', 'rb') as handle:\n",
    "    list_of_trains = pickle.load(handle)\n",
    "\n",
    "\n",
    "# RAW TRAINS or WITHOUT MISSING DATA TRAINS\n",
    "curr_list_of_trains = list_of_trains # RAW\n",
    "# curr_list_of_trains = list_of_missing_preprocessed_trains # Without missing data\n",
    "\n",
    "# parameter k\n",
    "param_k = 5   \n",
    "# dict with key k number of samples taken and value list of vectors for that particular k\n",
    "# dict with key k number of segmentations taken and value list of vectors for that particular k\n",
    "dict_of_k_samples_features = dict()\n",
    "dict_of_k_segmentations_features = dict()\n",
    "for train_sample in curr_list_of_trains:\n",
    "    for curr_k in range(2,param_k+1):\n",
    "        person_processing_obj = PersonProcessing(train_sample)\n",
    "        results_sampling = person_processing_obj.get_sampling(k=curr_k)\n",
    "        results_segmentation = person_processing_obj.get_segmentation(k=curr_k)\n",
    "\n",
    "        if curr_k in dict_of_k_samples_features:\n",
    "            dict_of_k_samples_features[curr_k].append(results_sampling)\n",
    "        else:\n",
    "            dict_of_k_samples_features[curr_k] = list()\n",
    "            dict_of_k_samples_features[curr_k].append(results_sampling)\n",
    "\n",
    "        if curr_k in dict_of_k_segmentations_features:\n",
    "            dict_of_k_segmentations_features[curr_k].append(results_segmentation)\n",
    "        else:\n",
    "            dict_of_k_segmentations_features[curr_k] = list()\n",
    "            dict_of_k_segmentations_features[curr_k].append(results_segmentation)"
   ]
  },
  {
   "cell_type": "code",
   "execution_count": 4,
   "metadata": {},
   "outputs": [],
   "source": [
    "## Process the labels\n",
    "with open('Data'+os.sep+'train_outputs.pkl', 'rb') as handle:\n",
    "    list_of_train_labels_raw = pickle.load(handle)"
   ]
  },
  {
   "cell_type": "code",
   "execution_count": 5,
   "metadata": {},
   "outputs": [],
   "source": [
    "list_of_train_labels = list()\n",
    "for item in list_of_train_labels_raw:\n",
    "    label_idx = (item[0] == 1).nonzero()[0][0]\n",
    "    list_of_train_labels.append(label_idx)"
   ]
  },
  {
   "cell_type": "code",
   "execution_count": 4,
   "metadata": {},
   "outputs": [],
   "source": [
    "## Neural Network Architecture\n",
    "from torch import nn\n",
    "\n",
    "device = torch.device(\"cuda:0\" if torch.cuda.is_available() else \"cpu\")\n",
    "if device.type == 'cuda':\n",
    "    torch.set_default_tensor_type('torch.cuda.FloatTensor')\n",
    "else:\n",
    "    torch.set_default_tensor_type('FloatTensor')\n",
    "\n",
    "class JapaneseVowelsNN(nn.Module):\n",
    "    def __init__(self, feature_dim, num_classes, dropout_rate):\n",
    "        super(JapaneseVowelsNN, self).__init__()\n",
    "        \n",
    "        self.input_layer = nn.Linear(feature_dim, feature_dim*2)\n",
    "        self.hidden_layer = nn.Linear(feature_dim*2, feature_dim)\n",
    "        self.hidden_layer2 = nn.Linear(feature_dim, int(feature_dim/2))\n",
    "        self.output_layer = nn.Linear(int(feature_dim/2), num_classes)\n",
    "        \n",
    "        self.relu = nn.ReLU()\n",
    "        self.dropout = nn.Dropout(p=dropout_rate)\n",
    "        self.batchnorm1 = nn.BatchNorm1d(feature_dim*2)\n",
    "        self.batchnorm2 = nn.BatchNorm1d(feature_dim)\n",
    "        self.batchnorm3 = nn.BatchNorm1d(int(feature_dim/2))\n",
    "        \n",
    "    def forward(self, x):\n",
    "        x = self.input_layer(x)\n",
    "        x = self.batchnorm1(x)\n",
    "        x = self.relu(x)\n",
    "        \n",
    "        x = self.hidden_layer(x)\n",
    "        x = self.batchnorm2(x)\n",
    "        x = self.relu(x)\n",
    "        x = self.dropout(x)\n",
    "\n",
    "        x = self.hidden_layer2(x)\n",
    "        x = self.batchnorm3(x)\n",
    "        x = self.relu(x)\n",
    "        x = self.dropout(x)\n",
    "        \n",
    "        x = self.output_layer(x)\n",
    "        \n",
    "        return x"
   ]
  },
  {
   "cell_type": "code",
   "execution_count": 56,
   "metadata": {},
   "outputs": [],
   "source": [
    "from sklearn.model_selection import train_test_split\n",
    "from torch.utils.data import DataLoader\n",
    "from sklearn.model_selection import KFold, RepeatedKFold, StratifiedKFold\n",
    "\n",
    "## Function for creating the data loaders and making train validate sets\n",
    "def prepare_dataset(type='segmentation', k=2):\n",
    "    if type=='segmentation':\n",
    "        dataset = list(zip(torch.from_numpy(np.array(dict_of_k_segmentations_features[k])), torch.from_numpy(np.array                         (list_of_train_labels))))\n",
    "    elif type=='sampling':\n",
    "        dataset = list(zip(torch.from_numpy(np.array(dict_of_k_samples_features[k])), torch.from_numpy(np.array                         (list_of_train_labels))))\n",
    "\n",
    "    elif type=='processed_missing_values':\n",
    "        dataset = list(zip(torch.from_numpy(np.array(list_of_missing_vals_processed_trains_concat)), \n",
    "        torch.from_numpy(np.array(list_of_train_labels))))\n",
    "\n",
    "    return dataset\n",
    "\n",
    "def multi_acc(y_pred, y_test):\n",
    "    y_pred_softmax = torch.log_softmax(y_pred, dim = 1)\n",
    "    _, y_pred_tags = torch.max(y_pred_softmax, dim = 1)    \n",
    "    \n",
    "    correct_pred = (y_pred_tags == y_test).float()\n",
    "    acc = correct_pred.sum() / len(correct_pred)\n",
    "    \n",
    "    acc = torch.round(acc) * 100\n",
    "    \n",
    "    return acc\n",
    "\n",
    "def create_cross_validator(n_splits=10):\n",
    "    cv = KFold(n_splits=n_splits, shuffle=True, random_state=42)\n",
    "    return cv\n",
    "\n",
    "def create_data_loaders(train_data, val_data):\n",
    "    train_data_loader = DataLoader(dataset=train_data, batch_size=BATCH_SIZE, shuffle=False)\n",
    "    val_data_loader = DataLoader(dataset=val_data, batch_size=1, shuffle=False)\n",
    "    return train_data_loader, val_data_loader"
   ]
  },
  {
   "cell_type": "code",
   "execution_count": 4,
   "metadata": {},
   "outputs": [],
   "source": [
    "## Constant Parameters\n",
    "EPOCHS = 200\n",
    "BATCH_SIZE = 32\n",
    "LEARNING_RATE = 0.001\n",
    "NUM_CLASSES = 9\n",
    "dropout_rate = 0.2\n",
    "optimizer_name = 'Adam'\n",
    "\n",
    "# Possible types: \"segmentation\",\"sampling\",\"processed_missing_values\"\n",
    "TYPE_OF_FEATURES = \"processed_missing_values\"\n",
    "## Set to zero if type=\"processed_missing_values\"\n",
    "if TYPE_OF_FEATURES == \"processed_missing_values\":\n",
    "    K = 0\n",
    "    LOOP_START_AT = 0\n",
    "else:\n",
    "    K = param_k\n",
    "    LOOP_START_AT = 5"
   ]
  },
  {
   "cell_type": "code",
   "execution_count": 4,
   "metadata": {
    "tags": []
   },
   "outputs": [
    {
     "ename": "NameError",
     "evalue": "name 'create_cross_validator' is not defined",
     "output_type": "error",
     "traceback": [
      "\u001b[0;31m---------------------------------------------------------------------------\u001b[0m",
      "\u001b[0;31mNameError\u001b[0m                                 Traceback (most recent call last)",
      "\u001b[0;32m<ipython-input-4-82989ba0d038>\u001b[0m in \u001b[0;36m<module>\u001b[0;34m\u001b[0m\n\u001b[1;32m      9\u001b[0m \u001b[0;34m\u001b[0m\u001b[0m\n\u001b[1;32m     10\u001b[0m \u001b[0;31m# Initialize cross valudator\u001b[0m\u001b[0;34m\u001b[0m\u001b[0;34m\u001b[0m\u001b[0;34m\u001b[0m\u001b[0m\n\u001b[0;32m---> 11\u001b[0;31m \u001b[0mcross_validator\u001b[0m \u001b[0;34m=\u001b[0m \u001b[0mcreate_cross_validator\u001b[0m\u001b[0;34m(\u001b[0m\u001b[0;34m)\u001b[0m\u001b[0;34m\u001b[0m\u001b[0;34m\u001b[0m\u001b[0m\n\u001b[0m\u001b[1;32m     12\u001b[0m \u001b[0;34m\u001b[0m\u001b[0m\n\u001b[1;32m     13\u001b[0m \u001b[0;32mfor\u001b[0m \u001b[0mk\u001b[0m \u001b[0;32min\u001b[0m \u001b[0mrange\u001b[0m\u001b[0;34m(\u001b[0m\u001b[0mLOOP_START_AT\u001b[0m\u001b[0;34m,\u001b[0m\u001b[0mK\u001b[0m\u001b[0;34m+\u001b[0m\u001b[0;36m1\u001b[0m\u001b[0;34m)\u001b[0m\u001b[0;34m:\u001b[0m\u001b[0;34m\u001b[0m\u001b[0;34m\u001b[0m\u001b[0m\n",
      "\u001b[0;31mNameError\u001b[0m: name 'create_cross_validator' is not defined"
     ]
    }
   ],
   "source": [
    "from torch import optim\n",
    "import numpy as np \n",
    "from datetime import datetime\n",
    "\n",
    "## Move model to cuda if available\n",
    "device = torch.device(\"cuda:0\" if torch.cuda.is_available() else \"cpu\")\n",
    "dict_of_k_results = dict()\n",
    "\n",
    "# Initialize cross valudator\n",
    "cross_validator = create_cross_validator()\n",
    "\n",
    "for k in range(LOOP_START_AT,K+1):\n",
    "        # Prepare data\n",
    "        prepared_data = prepare_dataset(type=TYPE_OF_FEATURES, k=k)\n",
    "        k_fold_num = 0\n",
    "        for train_idx, val_idx in cross_validator.split(prepared_data):\n",
    "            start_time_current_k_fold = datetime.now()\n",
    "            k_fold_num += 1\n",
    "            # Create data loaders for train/val for the current cross validation\n",
    "            train_loader, val_loader = create_data_loaders(\n",
    "                train_data=prepared_data[train_idx[0]:train_idx[-1]] + [prepared_data[train_idx[-1]]], \n",
    "                val_data=prepared_data[val_idx[0]:val_idx[-1]] + [prepared_data[val_idx[-1]]])\n",
    "\n",
    "            \"\"\"\n",
    "            train_data=prepared_data[train_idx[0]:train_idx[-1]] + [prepared_data[train_idx[-1]]], \n",
    "                val_data=prepared_data[val_idx[0]:val_idx[-1]] + [prepared_data[val_idx[-1]]])\n",
    "            \"\"\"\n",
    "            # get feature dimensionality to set in the network\n",
    "            feature_dim = next(iter(train_loader))[0].shape[1]\n",
    "\n",
    "            ## Initialize model\n",
    "            model = JapaneseVowelsNN(feature_dim=feature_dim, num_classes=NUM_CLASSES,dropout_rate=dropout_rate)\n",
    "            model = model.double()\n",
    "            model.to(device)\n",
    "\n",
    "            criterion = nn.CrossEntropyLoss()\n",
    "\n",
    "            if optimizer_name == 'Adam':\n",
    "                optimizer = optim.Adam(model.parameters(), lr=LEARNING_RATE)\n",
    "            elif optimizer_name == 'RMSProp':\n",
    "                optimizer = optim.RMSprop(model.parameters(), lr=LEARNING_RATE)\n",
    "            elif optimizer_name == 'Adagrad':\n",
    "                optimizer = optim.Adagrad(model.parameters(), lr=LEARNING_RATE)\n",
    "\n",
    "            for epoch in range(1, EPOCHS+1):\n",
    "                # TRAINING\n",
    "                train_epoch_loss = 0\n",
    "                train_epoch_acc = 0\n",
    "                model.train()\n",
    "                for X_train_batch, y_train_batch in train_loader:\n",
    "                    X_train_batch, y_train_batch = X_train_batch.to(device), y_train_batch.to(device)\n",
    "                    optimizer.zero_grad()\n",
    "                    \n",
    "                    y_train_pred = model(X_train_batch)\n",
    "                    \n",
    "                    train_loss = criterion(y_train_pred, y_train_batch)\n",
    "                    train_acc = multi_acc(y_train_pred, y_train_batch)\n",
    "                    \n",
    "                    train_loss.backward()\n",
    "                    optimizer.step()\n",
    "                    \n",
    "                    train_epoch_loss += train_loss.item()\n",
    "                    train_epoch_acc += train_acc.item()\n",
    "                    \n",
    "                    \n",
    "                # VALIDATION    \n",
    "                with torch.no_grad():\n",
    "                    \n",
    "                    val_epoch_loss = 0\n",
    "                    val_epoch_acc = 0\n",
    "                    \n",
    "                    model.eval()\n",
    "                    for X_val_batch, y_val_batch in val_loader:\n",
    "                        X_val_batch, y_val_batch = X_val_batch.to(device), y_val_batch.to(device)\n",
    "                        \n",
    "                        y_val_pred = model(X_val_batch)\n",
    "                                    \n",
    "                        val_loss = criterion(y_val_pred, y_val_batch)\n",
    "                        val_acc = multi_acc(y_val_pred, y_val_batch)\n",
    "                        \n",
    "                        val_epoch_loss += val_loss.item()\n",
    "                        val_epoch_acc += val_acc.item()\n",
    "                \n",
    "                if epoch % 10 == 0:\n",
    "                    print(\"Epoch: {} | Train Loss: {} |  Val Loss: {} | Train acc: {} | Val acc: {}\".format(epoch,                         round(train_epoch_loss/len(train_loader),3), round(val_epoch_loss/len(val_loader),3), round                                  (train_epoch_acc/len(train_loader),3), round(val_epoch_acc/len(val_loader),3)))\n",
    "\n",
    "                    #print('Allocated:', round(torch.cuda.memory_allocated(0)/1024**3,1), 'GB')\n",
    "                    #print('Cached:   ', round(torch.cuda.memory_reserved(0)/1024**3,1), 'GB')\n",
    "                if epoch == EPOCHS:\n",
    "                    print('--------k param: {} k-fold num: {} completed!-----------'.format(k, k_fold_num))\n",
    "        \n",
    "            ## Check if key exists and create it if it doesnt and saves the results for the current experiment\n",
    "            if k not in dict_of_k_results:\n",
    "                dict_of_k_results[k] = {'train_acc':[], 'train_loss':[], 'val_acc':[],'val_loss':[],                                   'type':TYPE_OF_FEATURES, 'convergence_time':[]}\n",
    "\n",
    "            end_time_current_k_fold = datetime.now()\n",
    "            dict_of_k_results[k]['train_acc'].append(train_epoch_acc/len(train_loader))\n",
    "            dict_of_k_results[k]['train_loss'].append(train_epoch_loss/len(train_loader))\n",
    "            dict_of_k_results[k]['val_acc'].append(val_epoch_acc/len(val_loader))\n",
    "            dict_of_k_results[k]['val_loss'].append(val_epoch_loss/len(val_loader))\n",
    "            dict_of_k_results[k]['convergence_time'].append(end_time_current_k_fold-start_time_current_k_fold)"
   ]
  },
  {
   "cell_type": "code",
   "execution_count": 6,
   "metadata": {},
   "outputs": [
    {
     "ename": "FileNotFoundError",
     "evalue": "[Errno 2] No such file or directory: 'Results/processed_missing_values/dict_of_k_results_cv10_dropout-0.2_3-layered_Adam.pkl'",
     "output_type": "error",
     "traceback": [
      "\u001b[0;31m---------------------------------------------------------------------------\u001b[0m",
      "\u001b[0;31mFileNotFoundError\u001b[0m                         Traceback (most recent call last)",
      "\u001b[0;32m<ipython-input-6-081b8db309f6>\u001b[0m in \u001b[0;36m<module>\u001b[0;34m\u001b[0m\n\u001b[1;32m      1\u001b[0m \u001b[0;31m# Save results as pickles\u001b[0m\u001b[0;34m\u001b[0m\u001b[0;34m\u001b[0m\u001b[0;34m\u001b[0m\u001b[0m\n\u001b[0;32m----> 2\u001b[0;31m \u001b[0;32mwith\u001b[0m \u001b[0mopen\u001b[0m\u001b[0;34m(\u001b[0m\u001b[0;34m'Results'\u001b[0m\u001b[0;34m+\u001b[0m\u001b[0mos\u001b[0m\u001b[0;34m.\u001b[0m\u001b[0msep\u001b[0m\u001b[0;34m+\u001b[0m\u001b[0;34m'{}'\u001b[0m\u001b[0;34m.\u001b[0m\u001b[0mformat\u001b[0m\u001b[0;34m(\u001b[0m\u001b[0mTYPE_OF_FEATURES\u001b[0m\u001b[0;34m)\u001b[0m\u001b[0;34m+\u001b[0m\u001b[0mos\u001b[0m\u001b[0;34m.\u001b[0m\u001b[0msep\u001b[0m\u001b[0;34m+\u001b[0m\u001b[0;34m'dict_of_k_results_cv10_dropout-{}_3-layered_{}.pkl'\u001b[0m\u001b[0;34m.\u001b[0m\u001b[0mformat\u001b[0m\u001b[0;34m(\u001b[0m\u001b[0mdropout_rate\u001b[0m\u001b[0;34m,\u001b[0m\u001b[0moptimizer_name\u001b[0m\u001b[0;34m)\u001b[0m\u001b[0;34m,\u001b[0m \u001b[0;34m'wb'\u001b[0m\u001b[0;34m)\u001b[0m \u001b[0;32mas\u001b[0m \u001b[0mhandle\u001b[0m\u001b[0;34m:\u001b[0m\u001b[0;34m\u001b[0m\u001b[0;34m\u001b[0m\u001b[0m\n\u001b[0m\u001b[1;32m      3\u001b[0m     \u001b[0mpickle\u001b[0m\u001b[0;34m.\u001b[0m\u001b[0mdump\u001b[0m\u001b[0;34m(\u001b[0m\u001b[0mdict_of_k_results\u001b[0m\u001b[0;34m,\u001b[0m \u001b[0mhandle\u001b[0m\u001b[0;34m,\u001b[0m \u001b[0mprotocol\u001b[0m\u001b[0;34m=\u001b[0m\u001b[0mpickle\u001b[0m\u001b[0;34m.\u001b[0m\u001b[0mHIGHEST_PROTOCOL\u001b[0m\u001b[0;34m)\u001b[0m\u001b[0;34m\u001b[0m\u001b[0;34m\u001b[0m\u001b[0m\n",
      "\u001b[0;31mFileNotFoundError\u001b[0m: [Errno 2] No such file or directory: 'Results/processed_missing_values/dict_of_k_results_cv10_dropout-0.2_3-layered_Adam.pkl'"
     ]
    }
   ],
   "source": [
    "# Save results as pickles\n",
    "with open('Results'+os.sep+'{}'.format(TYPE_OF_FEATURES)+os.sep+'dict_of_k_results_cv10_dropout-{}_3-layered_{}.pkl'.format(dropout_rate,optimizer_name), 'wb') as handle:\n",
    "    pickle.dump(dict_of_k_results, handle, protocol=pickle.HIGHEST_PROTOCOL)"
   ]
  },
  {
   "cell_type": "code",
   "execution_count": 53,
   "metadata": {},
   "outputs": [
    {
     "data": {
      "text/plain": [
       "73.10237211308318"
      ]
     },
     "execution_count": 53,
     "metadata": {},
     "output_type": "execute_result"
    }
   ],
   "source": [
    "np.mean(dict_of_k_results[5]['val_acc'])"
   ]
  },
  {
   "cell_type": "code",
   "execution_count": 7,
   "metadata": {},
   "outputs": [
    {
     "ename": "NameError",
     "evalue": "name 'device' is not defined",
     "output_type": "error",
     "traceback": [
      "\u001b[0;31m---------------------------------------------------------------------------\u001b[0m",
      "\u001b[0;31mNameError\u001b[0m                                 Traceback (most recent call last)",
      "\u001b[0;32m<ipython-input-7-003e3e6917d9>\u001b[0m in \u001b[0;36m<module>\u001b[0;34m\u001b[0m\n\u001b[0;32m----> 1\u001b[0;31m \u001b[0;32mif\u001b[0m \u001b[0mdevice\u001b[0m\u001b[0;34m.\u001b[0m\u001b[0mtype\u001b[0m \u001b[0;34m==\u001b[0m \u001b[0;34m'cuda'\u001b[0m\u001b[0;34m:\u001b[0m\u001b[0;34m\u001b[0m\u001b[0;34m\u001b[0m\u001b[0m\n\u001b[0m\u001b[1;32m      2\u001b[0m     \u001b[0mprint\u001b[0m\u001b[0;34m(\u001b[0m\u001b[0mtorch\u001b[0m\u001b[0;34m.\u001b[0m\u001b[0mcuda\u001b[0m\u001b[0;34m.\u001b[0m\u001b[0mget_device_name\u001b[0m\u001b[0;34m(\u001b[0m\u001b[0;36m0\u001b[0m\u001b[0;34m)\u001b[0m\u001b[0;34m)\u001b[0m\u001b[0;34m\u001b[0m\u001b[0;34m\u001b[0m\u001b[0m\n\u001b[1;32m      3\u001b[0m     \u001b[0mprint\u001b[0m\u001b[0;34m(\u001b[0m\u001b[0;34m'Memory Usage:'\u001b[0m\u001b[0;34m)\u001b[0m\u001b[0;34m\u001b[0m\u001b[0;34m\u001b[0m\u001b[0m\n\u001b[1;32m      4\u001b[0m     \u001b[0mprint\u001b[0m\u001b[0;34m(\u001b[0m\u001b[0;34m'Allocated:'\u001b[0m\u001b[0;34m,\u001b[0m \u001b[0mround\u001b[0m\u001b[0;34m(\u001b[0m\u001b[0mtorch\u001b[0m\u001b[0;34m.\u001b[0m\u001b[0mcuda\u001b[0m\u001b[0;34m.\u001b[0m\u001b[0mmemory_allocated\u001b[0m\u001b[0;34m(\u001b[0m\u001b[0;36m0\u001b[0m\u001b[0;34m)\u001b[0m\u001b[0;34m/\u001b[0m\u001b[0;36m1024\u001b[0m\u001b[0;34m**\u001b[0m\u001b[0;36m3\u001b[0m\u001b[0;34m,\u001b[0m\u001b[0;36m1\u001b[0m\u001b[0;34m)\u001b[0m\u001b[0;34m,\u001b[0m \u001b[0;34m'GB'\u001b[0m\u001b[0;34m)\u001b[0m\u001b[0;34m\u001b[0m\u001b[0;34m\u001b[0m\u001b[0m\n\u001b[1;32m      5\u001b[0m     \u001b[0mprint\u001b[0m\u001b[0;34m(\u001b[0m\u001b[0;34m'Cached:   '\u001b[0m\u001b[0;34m,\u001b[0m \u001b[0mround\u001b[0m\u001b[0;34m(\u001b[0m\u001b[0mtorch\u001b[0m\u001b[0;34m.\u001b[0m\u001b[0mcuda\u001b[0m\u001b[0;34m.\u001b[0m\u001b[0mmemory_reserved\u001b[0m\u001b[0;34m(\u001b[0m\u001b[0;36m0\u001b[0m\u001b[0;34m)\u001b[0m\u001b[0;34m/\u001b[0m\u001b[0;36m1024\u001b[0m\u001b[0;34m**\u001b[0m\u001b[0;36m3\u001b[0m\u001b[0;34m,\u001b[0m\u001b[0;36m1\u001b[0m\u001b[0;34m)\u001b[0m\u001b[0;34m,\u001b[0m \u001b[0;34m'GB'\u001b[0m\u001b[0;34m)\u001b[0m\u001b[0;34m\u001b[0m\u001b[0;34m\u001b[0m\u001b[0m\n",
      "\u001b[0;31mNameError\u001b[0m: name 'device' is not defined"
     ]
    }
   ],
   "source": [
    "if device.type == 'cuda':\n",
    "    print(torch.cuda.get_device_name(0))\n",
    "    print('Memory Usage:')\n",
    "    print('Allocated:', round(torch.cuda.memory_allocated(0)/1024**3,1), 'GB')\n",
    "    print('Cached:   ', round(torch.cuda.memory_reserved(0)/1024**3,1), 'GB')"
   ]
  },
  {
   "cell_type": "code",
   "execution_count": null,
   "metadata": {},
   "outputs": [],
   "source": []
  }
 ],
 "metadata": {
  "kernelspec": {
   "display_name": "Python 3",
   "language": "python",
   "name": "python3"
  },
  "language_info": {
   "codemirror_mode": {
    "name": "ipython",
    "version": 3
   },
   "file_extension": ".py",
   "mimetype": "text/x-python",
   "name": "python",
   "nbconvert_exporter": "python",
   "pygments_lexer": "ipython3",
   "version": "3.8.2"
  }
 },
 "nbformat": 4,
 "nbformat_minor": 2
}
