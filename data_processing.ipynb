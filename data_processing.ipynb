{
 "metadata": {
  "language_info": {
   "codemirror_mode": {
    "name": "ipython",
    "version": 3
   },
   "file_extension": ".py",
   "mimetype": "text/x-python",
   "name": "python",
   "nbconvert_exporter": "python",
   "pygments_lexer": "ipython3",
   "version": "3.8.5-final"
  },
  "orig_nbformat": 2,
  "kernelspec": {
   "name": "python3",
   "display_name": "Python 3",
   "language": "python"
  }
 },
 "nbformat": 4,
 "nbformat_minor": 2,
 "cells": [
  {
   "cell_type": "code",
   "execution_count": 1,
   "metadata": {},
   "outputs": [],
   "source": [
    "import numpy as np"
   ]
  },
  {
   "cell_type": "code",
   "execution_count": 2,
   "metadata": {},
   "outputs": [],
   "source": [
    "import pickle\n",
    "\n",
    "## Process the data with the sampler and segmenter\n",
    "with open('Data\\\\train_inputs.pkl', 'rb') as handle:\n",
    "    list_of_trains = pickle.load(handle)"
   ]
  },
  {
   "cell_type": "code",
   "execution_count": 3,
   "metadata": {},
   "outputs": [
    {
     "output_type": "execute_result",
     "data": {
      "text/plain": [
       "array([[ 1.462484e+00,  1.740660e-01,  5.051330e-01, -3.743020e-01,\n",
       "        -3.621250e-01, -4.003350e-01, -1.374290e-01, -8.300000e-04,\n",
       "         5.388800e-02, -2.376300e-01,  1.206360e-01,  1.932540e-01],\n",
       "       [ 1.309815e+00,  1.201830e-01,  5.030460e-01, -3.275620e-01,\n",
       "        -3.567890e-01, -4.454980e-01, -6.042300e-02, -7.899000e-03,\n",
       "         4.160500e-02, -2.310870e-01,  1.210530e-01,  2.023860e-01],\n",
       "       [ 1.418207e+00,  1.572100e-02,  5.899940e-01, -3.105860e-01,\n",
       "        -4.770190e-01, -3.671010e-01, -1.208490e-01,  6.695200e-02,\n",
       "        -2.385900e-02, -2.243170e-01,  1.752980e-01,  1.566700e-01],\n",
       "       [ 1.585858e+00, -1.486910e-01,  6.968880e-01, -4.336720e-01,\n",
       "        -3.698710e-01, -3.252670e-01, -1.929240e-01,  1.244400e-01,\n",
       "        -4.149800e-02, -2.085800e-01,  1.298060e-01,  1.467450e-01],\n",
       "       [ 1.651997e+00, -1.790200e-01,  5.576500e-01, -3.524400e-01,\n",
       "        -2.863460e-01, -3.036670e-01, -2.108180e-01,  1.045990e-01,\n",
       "         4.095400e-02, -2.195160e-01,  2.276800e-02,  1.873220e-01],\n",
       "       [ 1.486123e+00, -9.118300e-02,  3.360310e-01, -1.315670e-01,\n",
       "        -3.334920e-01, -2.583450e-01, -2.013330e-01,  4.386200e-02,\n",
       "         7.367500e-02, -2.471600e-01, -2.587000e-03,  1.909690e-01],\n",
       "       [ 1.612464e+00, -2.746280e-01,  3.900980e-01, -2.129090e-01,\n",
       "        -2.226700e-01, -2.447860e-01, -2.170330e-01,  1.008400e-02,\n",
       "         4.975600e-02, -2.442400e-01, -4.095400e-02,  2.078890e-01],\n",
       "       [ 1.723449e+00, -3.906420e-01,  4.178340e-01, -2.462350e-01,\n",
       "        -1.934080e-01, -1.975580e-01, -1.731890e-01,  7.031600e-02,\n",
       "        -1.519900e-02, -3.445190e-01, -4.836200e-02,  2.485830e-01],\n",
       "       [ 1.908451e+00, -5.808810e-01,  4.313280e-01, -2.598620e-01,\n",
       "        -2.099850e-01, -7.967000e-02, -1.472130e-01,  1.345470e-01,\n",
       "        -5.115700e-02, -4.510990e-01, -7.740600e-02,  2.266540e-01],\n",
       "       [ 2.125260e+00, -8.260850e-01,  4.884110e-01, -2.810480e-01,\n",
       "        -1.632770e-01, -8.763000e-03, -1.862600e-01,  1.244820e-01,\n",
       "        -5.481700e-02, -4.643560e-01, -1.328860e-01,  1.728220e-01],\n",
       "       [ 1.990155e+00, -9.352620e-01,  4.706290e-01, -1.537620e-01,\n",
       "        -9.103500e-02,  3.506300e-02, -2.586640e-01,  5.858400e-02,\n",
       "        -1.411600e-02, -4.737530e-01, -1.469770e-01,  1.979830e-01],\n",
       "       [ 2.080310e+00, -1.042286e+00,  5.254330e-01, -1.049840e-01,\n",
       "         1.176900e-02,  7.879600e-02, -3.710830e-01, -1.391600e-02,\n",
       "        -2.005400e-02, -4.789640e-01, -9.340200e-02,  2.303590e-01],\n",
       "       [ 1.669360e+00, -6.798620e-01,  2.569370e-01,  6.915200e-02,\n",
       "         1.228220e-01,  9.908900e-02, -4.089780e-01, -1.089240e-01,\n",
       "        -4.602700e-02, -4.327180e-01, -5.961300e-02,  2.477650e-01],\n",
       "       [ 1.882291e+00, -8.856750e-01,  4.281980e-01,  2.923000e-03,\n",
       "         2.656510e-01,  1.151760e-01, -4.060250e-01, -1.638880e-01,\n",
       "        -1.231370e-01, -3.606510e-01, -3.153200e-02,  2.001090e-01],\n",
       "       [ 1.626219e+00, -7.078900e-01,  3.368110e-01,  4.479200e-02,\n",
       "         3.469500e-01,  6.619000e-02, -3.320760e-01, -1.168210e-01,\n",
       "        -2.266040e-01, -3.622630e-01,  4.972000e-03,  1.614450e-01],\n",
       "       [ 1.260190e+00, -4.856730e-01,  2.342960e-01,  1.416390e-01,\n",
       "         3.078900e-01,  1.246840e-01, -3.321770e-01, -1.682950e-01,\n",
       "        -1.746560e-01, -3.854160e-01, -4.726000e-03,  1.844540e-01],\n",
       "       [ 1.274111e+00, -5.464230e-01,  2.966810e-01,  1.523040e-01,\n",
       "         3.124200e-01,  1.943130e-01, -4.206220e-01, -1.850500e-01,\n",
       "        -1.410550e-01, -3.204400e-01,  2.087000e-02,  9.926400e-02],\n",
       "       [ 1.452900e+00, -7.042470e-01,  3.786520e-01,  2.427810e-01,\n",
       "         3.112370e-01,  1.929220e-01, -4.524170e-01, -1.814900e-01,\n",
       "        -1.162750e-01, -2.951920e-01,  5.330800e-02,  6.499000e-02],\n",
       "       [ 1.572425e+00, -8.678190e-01,  4.529380e-01,  2.960800e-01,\n",
       "         3.122640e-01,  1.614620e-01, -4.160840e-01, -1.713770e-01,\n",
       "        -1.067560e-01, -3.030180e-01,  4.234800e-02,  7.976900e-02],\n",
       "       [ 1.565221e+00, -8.115360e-01,  4.836070e-01,  2.647370e-01,\n",
       "         3.402650e-01,  1.738550e-01, -4.214790e-01, -1.811230e-01,\n",
       "        -9.345800e-02, -2.897870e-01,  4.369600e-02,  6.617900e-02],\n",
       "       [ 1.671099e+00, -9.109770e-01,  5.871770e-01,  2.252360e-01,\n",
       "         3.707190e-01,  1.471730e-01, -4.319960e-01, -1.466870e-01,\n",
       "        -1.063790e-01, -2.969110e-01,  6.561100e-02,  4.633900e-02],\n",
       "       [ 1.633764e+00, -9.354210e-01,  5.742730e-01,  2.690210e-01,\n",
       "         3.718180e-01,  1.197410e-01, -3.967880e-01, -1.229810e-01,\n",
       "        -1.528550e-01, -2.682830e-01,  9.591100e-02, -1.591500e-02]])"
      ]
     },
     "metadata": {},
     "execution_count": 3
    }
   ],
   "source": [
    "list_of_trains[2]"
   ]
  },
  {
   "cell_type": "code",
   "execution_count": 4,
   "metadata": {},
   "outputs": [
    {
     "output_type": "execute_result",
     "data": {
      "text/plain": [
       "array([1.860936, 1.891651, 1.939205, 1.717517, 1.741191, 1.684695,\n",
       "       1.637373, 1.643283, 1.60703 , 1.617907, 1.51035 , 1.371225,\n",
       "       1.299045, 1.221498, 1.181849, 1.16163 , 1.19499 , 1.264847,\n",
       "       1.250698, 1.261441])"
      ]
     },
     "metadata": {},
     "execution_count": 4
    }
   ],
   "source": [
    "list_of_trains[0].T[0]"
   ]
  },
  {
   "cell_type": "code",
   "execution_count": 5,
   "metadata": {
    "tags": []
   },
   "outputs": [],
   "source": [
    "dict_of_features_timeseries_len = dict()\n",
    "for item in list_of_trains:\n",
    "    for feature_idx, feature_vector in enumerate(item.T):\n",
    "        if not feature_idx in dict_of_features_timeseries_len:\n",
    "            dict_of_features_timeseries_len[feature_idx] = []\n",
    "        dict_of_features_timeseries_len[feature_idx].append(len(feature_vector))"
   ]
  },
  {
   "cell_type": "code",
   "execution_count": 6,
   "metadata": {},
   "outputs": [
    {
     "output_type": "stream",
     "name": "stdout",
     "text": [
      "[20, 26, 22, 20, 21, 23, 22, 18, 24, 15, 23, 15, 17, 14, 14, 15, 15, 21, 16, 15, 15, 19, 22, 20, 17, 17, 13, 16, 13, 14, 18, 17, 16, 17, 15, 15, 15, 18, 18, 21, 17, 13, 13, 17, 15, 16, 15, 18, 15, 11, 17, 15, 13, 12, 14, 16, 12, 16, 15, 15, 21, 19, 14, 12, 14, 15, 20, 14, 7, 17, 11, 15, 15, 9, 12, 18, 13, 12, 12, 16, 13, 12, 17, 15, 13, 19, 11, 13, 10, 15, 21, 18, 23, 23, 21, 21, 23, 21, 24, 19, 23, 23, 17, 23, 19, 17, 18, 19, 15, 22, 18, 15, 17, 25, 21, 19, 23, 16, 20, 22, 13, 11, 12, 10, 11, 10, 16, 13, 11, 15, 11, 15, 16, 13, 17, 14, 16, 15, 15, 10, 15, 14, 18, 15, 15, 12, 12, 10, 12, 10, 17, 16, 16, 21, 18, 13, 16, 17, 21, 23, 19, 16, 18, 18, 15, 16, 18, 19, 16, 16, 18, 14, 16, 19, 23, 17, 18, 16, 18, 15, 16, 15, 15, 17, 15, 12, 16, 18, 18, 14, 20, 19, 17, 14, 14, 18, 17, 20, 17, 14, 13, 16, 16, 21, 16, 15, 21, 16, 21, 25, 10, 12, 11, 11, 10, 11, 11, 14, 13, 12, 12, 13, 17, 13, 11, 12, 11, 12, 11, 12, 14, 15, 14, 15, 13, 10, 13, 15, 13, 16, 17, 12, 18, 16, 17, 19, 20, 19, 18, 11, 11, 17, 15, 12, 15, 14, 14, 11, 13, 14, 12, 17, 11, 10, 14, 15, 17, 12, 14, 9]\nCC channel: 0 | Mean length of timeseries: 15.829629629629629 | Max len: 26 | Min len: 7\n[20, 26, 22, 20, 21, 23, 22, 18, 24, 15, 23, 15, 17, 14, 14, 15, 15, 21, 16, 15, 15, 19, 22, 20, 17, 17, 13, 16, 13, 14, 18, 17, 16, 17, 15, 15, 15, 18, 18, 21, 17, 13, 13, 17, 15, 16, 15, 18, 15, 11, 17, 15, 13, 12, 14, 16, 12, 16, 15, 15, 21, 19, 14, 12, 14, 15, 20, 14, 7, 17, 11, 15, 15, 9, 12, 18, 13, 12, 12, 16, 13, 12, 17, 15, 13, 19, 11, 13, 10, 15, 21, 18, 23, 23, 21, 21, 23, 21, 24, 19, 23, 23, 17, 23, 19, 17, 18, 19, 15, 22, 18, 15, 17, 25, 21, 19, 23, 16, 20, 22, 13, 11, 12, 10, 11, 10, 16, 13, 11, 15, 11, 15, 16, 13, 17, 14, 16, 15, 15, 10, 15, 14, 18, 15, 15, 12, 12, 10, 12, 10, 17, 16, 16, 21, 18, 13, 16, 17, 21, 23, 19, 16, 18, 18, 15, 16, 18, 19, 16, 16, 18, 14, 16, 19, 23, 17, 18, 16, 18, 15, 16, 15, 15, 17, 15, 12, 16, 18, 18, 14, 20, 19, 17, 14, 14, 18, 17, 20, 17, 14, 13, 16, 16, 21, 16, 15, 21, 16, 21, 25, 10, 12, 11, 11, 10, 11, 11, 14, 13, 12, 12, 13, 17, 13, 11, 12, 11, 12, 11, 12, 14, 15, 14, 15, 13, 10, 13, 15, 13, 16, 17, 12, 18, 16, 17, 19, 20, 19, 18, 11, 11, 17, 15, 12, 15, 14, 14, 11, 13, 14, 12, 17, 11, 10, 14, 15, 17, 12, 14, 9]\nCC channel: 1 | Mean length of timeseries: 15.829629629629629 | Max len: 26 | Min len: 7\n[20, 26, 22, 20, 21, 23, 22, 18, 24, 15, 23, 15, 17, 14, 14, 15, 15, 21, 16, 15, 15, 19, 22, 20, 17, 17, 13, 16, 13, 14, 18, 17, 16, 17, 15, 15, 15, 18, 18, 21, 17, 13, 13, 17, 15, 16, 15, 18, 15, 11, 17, 15, 13, 12, 14, 16, 12, 16, 15, 15, 21, 19, 14, 12, 14, 15, 20, 14, 7, 17, 11, 15, 15, 9, 12, 18, 13, 12, 12, 16, 13, 12, 17, 15, 13, 19, 11, 13, 10, 15, 21, 18, 23, 23, 21, 21, 23, 21, 24, 19, 23, 23, 17, 23, 19, 17, 18, 19, 15, 22, 18, 15, 17, 25, 21, 19, 23, 16, 20, 22, 13, 11, 12, 10, 11, 10, 16, 13, 11, 15, 11, 15, 16, 13, 17, 14, 16, 15, 15, 10, 15, 14, 18, 15, 15, 12, 12, 10, 12, 10, 17, 16, 16, 21, 18, 13, 16, 17, 21, 23, 19, 16, 18, 18, 15, 16, 18, 19, 16, 16, 18, 14, 16, 19, 23, 17, 18, 16, 18, 15, 16, 15, 15, 17, 15, 12, 16, 18, 18, 14, 20, 19, 17, 14, 14, 18, 17, 20, 17, 14, 13, 16, 16, 21, 16, 15, 21, 16, 21, 25, 10, 12, 11, 11, 10, 11, 11, 14, 13, 12, 12, 13, 17, 13, 11, 12, 11, 12, 11, 12, 14, 15, 14, 15, 13, 10, 13, 15, 13, 16, 17, 12, 18, 16, 17, 19, 20, 19, 18, 11, 11, 17, 15, 12, 15, 14, 14, 11, 13, 14, 12, 17, 11, 10, 14, 15, 17, 12, 14, 9]\nCC channel: 2 | Mean length of timeseries: 15.829629629629629 | Max len: 26 | Min len: 7\n[20, 26, 22, 20, 21, 23, 22, 18, 24, 15, 23, 15, 17, 14, 14, 15, 15, 21, 16, 15, 15, 19, 22, 20, 17, 17, 13, 16, 13, 14, 18, 17, 16, 17, 15, 15, 15, 18, 18, 21, 17, 13, 13, 17, 15, 16, 15, 18, 15, 11, 17, 15, 13, 12, 14, 16, 12, 16, 15, 15, 21, 19, 14, 12, 14, 15, 20, 14, 7, 17, 11, 15, 15, 9, 12, 18, 13, 12, 12, 16, 13, 12, 17, 15, 13, 19, 11, 13, 10, 15, 21, 18, 23, 23, 21, 21, 23, 21, 24, 19, 23, 23, 17, 23, 19, 17, 18, 19, 15, 22, 18, 15, 17, 25, 21, 19, 23, 16, 20, 22, 13, 11, 12, 10, 11, 10, 16, 13, 11, 15, 11, 15, 16, 13, 17, 14, 16, 15, 15, 10, 15, 14, 18, 15, 15, 12, 12, 10, 12, 10, 17, 16, 16, 21, 18, 13, 16, 17, 21, 23, 19, 16, 18, 18, 15, 16, 18, 19, 16, 16, 18, 14, 16, 19, 23, 17, 18, 16, 18, 15, 16, 15, 15, 17, 15, 12, 16, 18, 18, 14, 20, 19, 17, 14, 14, 18, 17, 20, 17, 14, 13, 16, 16, 21, 16, 15, 21, 16, 21, 25, 10, 12, 11, 11, 10, 11, 11, 14, 13, 12, 12, 13, 17, 13, 11, 12, 11, 12, 11, 12, 14, 15, 14, 15, 13, 10, 13, 15, 13, 16, 17, 12, 18, 16, 17, 19, 20, 19, 18, 11, 11, 17, 15, 12, 15, 14, 14, 11, 13, 14, 12, 17, 11, 10, 14, 15, 17, 12, 14, 9]\nCC channel: 3 | Mean length of timeseries: 15.829629629629629 | Max len: 26 | Min len: 7\n[20, 26, 22, 20, 21, 23, 22, 18, 24, 15, 23, 15, 17, 14, 14, 15, 15, 21, 16, 15, 15, 19, 22, 20, 17, 17, 13, 16, 13, 14, 18, 17, 16, 17, 15, 15, 15, 18, 18, 21, 17, 13, 13, 17, 15, 16, 15, 18, 15, 11, 17, 15, 13, 12, 14, 16, 12, 16, 15, 15, 21, 19, 14, 12, 14, 15, 20, 14, 7, 17, 11, 15, 15, 9, 12, 18, 13, 12, 12, 16, 13, 12, 17, 15, 13, 19, 11, 13, 10, 15, 21, 18, 23, 23, 21, 21, 23, 21, 24, 19, 23, 23, 17, 23, 19, 17, 18, 19, 15, 22, 18, 15, 17, 25, 21, 19, 23, 16, 20, 22, 13, 11, 12, 10, 11, 10, 16, 13, 11, 15, 11, 15, 16, 13, 17, 14, 16, 15, 15, 10, 15, 14, 18, 15, 15, 12, 12, 10, 12, 10, 17, 16, 16, 21, 18, 13, 16, 17, 21, 23, 19, 16, 18, 18, 15, 16, 18, 19, 16, 16, 18, 14, 16, 19, 23, 17, 18, 16, 18, 15, 16, 15, 15, 17, 15, 12, 16, 18, 18, 14, 20, 19, 17, 14, 14, 18, 17, 20, 17, 14, 13, 16, 16, 21, 16, 15, 21, 16, 21, 25, 10, 12, 11, 11, 10, 11, 11, 14, 13, 12, 12, 13, 17, 13, 11, 12, 11, 12, 11, 12, 14, 15, 14, 15, 13, 10, 13, 15, 13, 16, 17, 12, 18, 16, 17, 19, 20, 19, 18, 11, 11, 17, 15, 12, 15, 14, 14, 11, 13, 14, 12, 17, 11, 10, 14, 15, 17, 12, 14, 9]\nCC channel: 4 | Mean length of timeseries: 15.829629629629629 | Max len: 26 | Min len: 7\n[20, 26, 22, 20, 21, 23, 22, 18, 24, 15, 23, 15, 17, 14, 14, 15, 15, 21, 16, 15, 15, 19, 22, 20, 17, 17, 13, 16, 13, 14, 18, 17, 16, 17, 15, 15, 15, 18, 18, 21, 17, 13, 13, 17, 15, 16, 15, 18, 15, 11, 17, 15, 13, 12, 14, 16, 12, 16, 15, 15, 21, 19, 14, 12, 14, 15, 20, 14, 7, 17, 11, 15, 15, 9, 12, 18, 13, 12, 12, 16, 13, 12, 17, 15, 13, 19, 11, 13, 10, 15, 21, 18, 23, 23, 21, 21, 23, 21, 24, 19, 23, 23, 17, 23, 19, 17, 18, 19, 15, 22, 18, 15, 17, 25, 21, 19, 23, 16, 20, 22, 13, 11, 12, 10, 11, 10, 16, 13, 11, 15, 11, 15, 16, 13, 17, 14, 16, 15, 15, 10, 15, 14, 18, 15, 15, 12, 12, 10, 12, 10, 17, 16, 16, 21, 18, 13, 16, 17, 21, 23, 19, 16, 18, 18, 15, 16, 18, 19, 16, 16, 18, 14, 16, 19, 23, 17, 18, 16, 18, 15, 16, 15, 15, 17, 15, 12, 16, 18, 18, 14, 20, 19, 17, 14, 14, 18, 17, 20, 17, 14, 13, 16, 16, 21, 16, 15, 21, 16, 21, 25, 10, 12, 11, 11, 10, 11, 11, 14, 13, 12, 12, 13, 17, 13, 11, 12, 11, 12, 11, 12, 14, 15, 14, 15, 13, 10, 13, 15, 13, 16, 17, 12, 18, 16, 17, 19, 20, 19, 18, 11, 11, 17, 15, 12, 15, 14, 14, 11, 13, 14, 12, 17, 11, 10, 14, 15, 17, 12, 14, 9]\nCC channel: 5 | Mean length of timeseries: 15.829629629629629 | Max len: 26 | Min len: 7\n[20, 26, 22, 20, 21, 23, 22, 18, 24, 15, 23, 15, 17, 14, 14, 15, 15, 21, 16, 15, 15, 19, 22, 20, 17, 17, 13, 16, 13, 14, 18, 17, 16, 17, 15, 15, 15, 18, 18, 21, 17, 13, 13, 17, 15, 16, 15, 18, 15, 11, 17, 15, 13, 12, 14, 16, 12, 16, 15, 15, 21, 19, 14, 12, 14, 15, 20, 14, 7, 17, 11, 15, 15, 9, 12, 18, 13, 12, 12, 16, 13, 12, 17, 15, 13, 19, 11, 13, 10, 15, 21, 18, 23, 23, 21, 21, 23, 21, 24, 19, 23, 23, 17, 23, 19, 17, 18, 19, 15, 22, 18, 15, 17, 25, 21, 19, 23, 16, 20, 22, 13, 11, 12, 10, 11, 10, 16, 13, 11, 15, 11, 15, 16, 13, 17, 14, 16, 15, 15, 10, 15, 14, 18, 15, 15, 12, 12, 10, 12, 10, 17, 16, 16, 21, 18, 13, 16, 17, 21, 23, 19, 16, 18, 18, 15, 16, 18, 19, 16, 16, 18, 14, 16, 19, 23, 17, 18, 16, 18, 15, 16, 15, 15, 17, 15, 12, 16, 18, 18, 14, 20, 19, 17, 14, 14, 18, 17, 20, 17, 14, 13, 16, 16, 21, 16, 15, 21, 16, 21, 25, 10, 12, 11, 11, 10, 11, 11, 14, 13, 12, 12, 13, 17, 13, 11, 12, 11, 12, 11, 12, 14, 15, 14, 15, 13, 10, 13, 15, 13, 16, 17, 12, 18, 16, 17, 19, 20, 19, 18, 11, 11, 17, 15, 12, 15, 14, 14, 11, 13, 14, 12, 17, 11, 10, 14, 15, 17, 12, 14, 9]\nCC channel: 6 | Mean length of timeseries: 15.829629629629629 | Max len: 26 | Min len: 7\n[20, 26, 22, 20, 21, 23, 22, 18, 24, 15, 23, 15, 17, 14, 14, 15, 15, 21, 16, 15, 15, 19, 22, 20, 17, 17, 13, 16, 13, 14, 18, 17, 16, 17, 15, 15, 15, 18, 18, 21, 17, 13, 13, 17, 15, 16, 15, 18, 15, 11, 17, 15, 13, 12, 14, 16, 12, 16, 15, 15, 21, 19, 14, 12, 14, 15, 20, 14, 7, 17, 11, 15, 15, 9, 12, 18, 13, 12, 12, 16, 13, 12, 17, 15, 13, 19, 11, 13, 10, 15, 21, 18, 23, 23, 21, 21, 23, 21, 24, 19, 23, 23, 17, 23, 19, 17, 18, 19, 15, 22, 18, 15, 17, 25, 21, 19, 23, 16, 20, 22, 13, 11, 12, 10, 11, 10, 16, 13, 11, 15, 11, 15, 16, 13, 17, 14, 16, 15, 15, 10, 15, 14, 18, 15, 15, 12, 12, 10, 12, 10, 17, 16, 16, 21, 18, 13, 16, 17, 21, 23, 19, 16, 18, 18, 15, 16, 18, 19, 16, 16, 18, 14, 16, 19, 23, 17, 18, 16, 18, 15, 16, 15, 15, 17, 15, 12, 16, 18, 18, 14, 20, 19, 17, 14, 14, 18, 17, 20, 17, 14, 13, 16, 16, 21, 16, 15, 21, 16, 21, 25, 10, 12, 11, 11, 10, 11, 11, 14, 13, 12, 12, 13, 17, 13, 11, 12, 11, 12, 11, 12, 14, 15, 14, 15, 13, 10, 13, 15, 13, 16, 17, 12, 18, 16, 17, 19, 20, 19, 18, 11, 11, 17, 15, 12, 15, 14, 14, 11, 13, 14, 12, 17, 11, 10, 14, 15, 17, 12, 14, 9]\nCC channel: 7 | Mean length of timeseries: 15.829629629629629 | Max len: 26 | Min len: 7\n[20, 26, 22, 20, 21, 23, 22, 18, 24, 15, 23, 15, 17, 14, 14, 15, 15, 21, 16, 15, 15, 19, 22, 20, 17, 17, 13, 16, 13, 14, 18, 17, 16, 17, 15, 15, 15, 18, 18, 21, 17, 13, 13, 17, 15, 16, 15, 18, 15, 11, 17, 15, 13, 12, 14, 16, 12, 16, 15, 15, 21, 19, 14, 12, 14, 15, 20, 14, 7, 17, 11, 15, 15, 9, 12, 18, 13, 12, 12, 16, 13, 12, 17, 15, 13, 19, 11, 13, 10, 15, 21, 18, 23, 23, 21, 21, 23, 21, 24, 19, 23, 23, 17, 23, 19, 17, 18, 19, 15, 22, 18, 15, 17, 25, 21, 19, 23, 16, 20, 22, 13, 11, 12, 10, 11, 10, 16, 13, 11, 15, 11, 15, 16, 13, 17, 14, 16, 15, 15, 10, 15, 14, 18, 15, 15, 12, 12, 10, 12, 10, 17, 16, 16, 21, 18, 13, 16, 17, 21, 23, 19, 16, 18, 18, 15, 16, 18, 19, 16, 16, 18, 14, 16, 19, 23, 17, 18, 16, 18, 15, 16, 15, 15, 17, 15, 12, 16, 18, 18, 14, 20, 19, 17, 14, 14, 18, 17, 20, 17, 14, 13, 16, 16, 21, 16, 15, 21, 16, 21, 25, 10, 12, 11, 11, 10, 11, 11, 14, 13, 12, 12, 13, 17, 13, 11, 12, 11, 12, 11, 12, 14, 15, 14, 15, 13, 10, 13, 15, 13, 16, 17, 12, 18, 16, 17, 19, 20, 19, 18, 11, 11, 17, 15, 12, 15, 14, 14, 11, 13, 14, 12, 17, 11, 10, 14, 15, 17, 12, 14, 9]\nCC channel: 8 | Mean length of timeseries: 15.829629629629629 | Max len: 26 | Min len: 7\n[20, 26, 22, 20, 21, 23, 22, 18, 24, 15, 23, 15, 17, 14, 14, 15, 15, 21, 16, 15, 15, 19, 22, 20, 17, 17, 13, 16, 13, 14, 18, 17, 16, 17, 15, 15, 15, 18, 18, 21, 17, 13, 13, 17, 15, 16, 15, 18, 15, 11, 17, 15, 13, 12, 14, 16, 12, 16, 15, 15, 21, 19, 14, 12, 14, 15, 20, 14, 7, 17, 11, 15, 15, 9, 12, 18, 13, 12, 12, 16, 13, 12, 17, 15, 13, 19, 11, 13, 10, 15, 21, 18, 23, 23, 21, 21, 23, 21, 24, 19, 23, 23, 17, 23, 19, 17, 18, 19, 15, 22, 18, 15, 17, 25, 21, 19, 23, 16, 20, 22, 13, 11, 12, 10, 11, 10, 16, 13, 11, 15, 11, 15, 16, 13, 17, 14, 16, 15, 15, 10, 15, 14, 18, 15, 15, 12, 12, 10, 12, 10, 17, 16, 16, 21, 18, 13, 16, 17, 21, 23, 19, 16, 18, 18, 15, 16, 18, 19, 16, 16, 18, 14, 16, 19, 23, 17, 18, 16, 18, 15, 16, 15, 15, 17, 15, 12, 16, 18, 18, 14, 20, 19, 17, 14, 14, 18, 17, 20, 17, 14, 13, 16, 16, 21, 16, 15, 21, 16, 21, 25, 10, 12, 11, 11, 10, 11, 11, 14, 13, 12, 12, 13, 17, 13, 11, 12, 11, 12, 11, 12, 14, 15, 14, 15, 13, 10, 13, 15, 13, 16, 17, 12, 18, 16, 17, 19, 20, 19, 18, 11, 11, 17, 15, 12, 15, 14, 14, 11, 13, 14, 12, 17, 11, 10, 14, 15, 17, 12, 14, 9]\nCC channel: 9 | Mean length of timeseries: 15.829629629629629 | Max len: 26 | Min len: 7\n[20, 26, 22, 20, 21, 23, 22, 18, 24, 15, 23, 15, 17, 14, 14, 15, 15, 21, 16, 15, 15, 19, 22, 20, 17, 17, 13, 16, 13, 14, 18, 17, 16, 17, 15, 15, 15, 18, 18, 21, 17, 13, 13, 17, 15, 16, 15, 18, 15, 11, 17, 15, 13, 12, 14, 16, 12, 16, 15, 15, 21, 19, 14, 12, 14, 15, 20, 14, 7, 17, 11, 15, 15, 9, 12, 18, 13, 12, 12, 16, 13, 12, 17, 15, 13, 19, 11, 13, 10, 15, 21, 18, 23, 23, 21, 21, 23, 21, 24, 19, 23, 23, 17, 23, 19, 17, 18, 19, 15, 22, 18, 15, 17, 25, 21, 19, 23, 16, 20, 22, 13, 11, 12, 10, 11, 10, 16, 13, 11, 15, 11, 15, 16, 13, 17, 14, 16, 15, 15, 10, 15, 14, 18, 15, 15, 12, 12, 10, 12, 10, 17, 16, 16, 21, 18, 13, 16, 17, 21, 23, 19, 16, 18, 18, 15, 16, 18, 19, 16, 16, 18, 14, 16, 19, 23, 17, 18, 16, 18, 15, 16, 15, 15, 17, 15, 12, 16, 18, 18, 14, 20, 19, 17, 14, 14, 18, 17, 20, 17, 14, 13, 16, 16, 21, 16, 15, 21, 16, 21, 25, 10, 12, 11, 11, 10, 11, 11, 14, 13, 12, 12, 13, 17, 13, 11, 12, 11, 12, 11, 12, 14, 15, 14, 15, 13, 10, 13, 15, 13, 16, 17, 12, 18, 16, 17, 19, 20, 19, 18, 11, 11, 17, 15, 12, 15, 14, 14, 11, 13, 14, 12, 17, 11, 10, 14, 15, 17, 12, 14, 9]\nCC channel: 10 | Mean length of timeseries: 15.829629629629629 | Max len: 26 | Min len: 7\n[20, 26, 22, 20, 21, 23, 22, 18, 24, 15, 23, 15, 17, 14, 14, 15, 15, 21, 16, 15, 15, 19, 22, 20, 17, 17, 13, 16, 13, 14, 18, 17, 16, 17, 15, 15, 15, 18, 18, 21, 17, 13, 13, 17, 15, 16, 15, 18, 15, 11, 17, 15, 13, 12, 14, 16, 12, 16, 15, 15, 21, 19, 14, 12, 14, 15, 20, 14, 7, 17, 11, 15, 15, 9, 12, 18, 13, 12, 12, 16, 13, 12, 17, 15, 13, 19, 11, 13, 10, 15, 21, 18, 23, 23, 21, 21, 23, 21, 24, 19, 23, 23, 17, 23, 19, 17, 18, 19, 15, 22, 18, 15, 17, 25, 21, 19, 23, 16, 20, 22, 13, 11, 12, 10, 11, 10, 16, 13, 11, 15, 11, 15, 16, 13, 17, 14, 16, 15, 15, 10, 15, 14, 18, 15, 15, 12, 12, 10, 12, 10, 17, 16, 16, 21, 18, 13, 16, 17, 21, 23, 19, 16, 18, 18, 15, 16, 18, 19, 16, 16, 18, 14, 16, 19, 23, 17, 18, 16, 18, 15, 16, 15, 15, 17, 15, 12, 16, 18, 18, 14, 20, 19, 17, 14, 14, 18, 17, 20, 17, 14, 13, 16, 16, 21, 16, 15, 21, 16, 21, 25, 10, 12, 11, 11, 10, 11, 11, 14, 13, 12, 12, 13, 17, 13, 11, 12, 11, 12, 11, 12, 14, 15, 14, 15, 13, 10, 13, 15, 13, 16, 17, 12, 18, 16, 17, 19, 20, 19, 18, 11, 11, 17, 15, 12, 15, 14, 14, 11, 13, 14, 12, 17, 11, 10, 14, 15, 17, 12, 14, 9]\nCC channel: 11 | Mean length of timeseries: 15.829629629629629 | Max len: 26 | Min len: 7\n"
     ]
    }
   ],
   "source": [
    "import numpy as np\n",
    "for feature_idx, count_timeseries_steps in dict_of_features_timeseries_len.items():\n",
    "    print(count_timeseries_steps)\n",
    "    print(\"CC channel: {} | Mean length of timeseries: {} | Max len: {} | Min len: {}\".format(feature_idx, np.mean(count_timeseries_steps), np.max(count_timeseries_steps), np.min(count_timeseries_steps)))"
   ]
  },
  {
   "cell_type": "code",
   "execution_count": null,
   "metadata": {},
   "outputs": [],
   "source": [
    "import matplotlib.pyplot as plt\n",
    "\n",
    "counts = np.bincount(count_timeseries_steps)\n",
    "\n",
    "plt.hist(count_timeseries_steps, bins='auto', color='purple',\n",
    "                            alpha=0.9, rwidth=0.85)\n",
    "plt.grid(axis='y', alpha=1)\n",
    "plt.xlabel('Length of time-series for CC #12')\n",
    "plt.ylabel('Frequency')\n",
    "#plt.title('Distribution of length of time-series for CC #12 for the training data')"
   ]
  },
  {
   "cell_type": "code",
   "execution_count": null,
   "metadata": {},
   "outputs": [],
   "source": [
    "## METHOD FOR MISSING VALUES BELOW"
   ]
  },
  {
   "cell_type": "code",
   "execution_count": null,
   "metadata": {
    "tags": []
   },
   "outputs": [],
   "source": [
    "## Test visuzalization before processing\n",
    "for count, item in enumerate(list_of_trains):\n",
    "    for feature_idx, feature_vector in enumerate(item.T):\n",
    "        if feature_idx == 0:\n",
    "            plt.plot(feature_vector)\n",
    "        break\n",
    "    if count == 1:\n",
    "        break"
   ]
  },
  {
   "cell_type": "code",
   "execution_count": null,
   "metadata": {},
   "outputs": [],
   "source": [
    "import pickle\n",
    "\n",
    "inside_dict_of_time_steps_values = dict.fromkeys(list(range(1,27)), 0)\n",
    "dict_of_cc_dicts_list_of_timestep_values = dict.fromkeys(list(range(1,13)), 0)\n",
    "## Creating a dictionary with key CC channel index and value another dictionary. The second dictionary is\n",
    "## with key timestep index (1-26 as 26 is the max length of timestep in the dataset) and value a list. \n",
    "## In this list, we are appending every value for the corresponding CC channel and timestep index.\n",
    "## This structure gives us the opportunity to compute mean/median/std etc for each CC channel and all values that\n",
    "## belong to every timestep for every sample.\n",
    "## Basically every list ([sample1_t_x, sample2_t_x..., sample270_t_x]) corresponds to one timestep, where sample1_t_x ## corresponds to the value for sample1 at timestep t_x. Now, having multiple lists, where each corresponds to a single timestep from 1 to 26 (26 is the max timestep in the dataset) can help us find missing values at certain timesteps.\n",
    "# EXAMPLE: Let's imagine we have a sample with length of its timeseries = 9 and we want to compute the rest of the timesteps for CC channel 1. This means we need to fill values for timesteps from 10 to 26. We are starting an iterative process from 10 to 26, I example for timestep 10. We get the list at:\n",
    "## list_t10 = dict_of_cc_dicts_list_of_timestep_values[1][10], 1 - CC channel, 10 - timestep index. Let's call this list \"list_t10\". We want to set a value for the sample for timestep 10 so one reasonable way to do so is to calculate the mean of the elements in \"list_t10\". Therefore, we are averaging over all values at timestep 10 for CC 1 for all samples that have a value there. We set the mean value as a timestep 10 for our sample. Repeat for every missing timestep value.\n",
    "for count, item in enumerate(list_of_trains):\n",
    "    for feature_idx, feature_vector in enumerate(item.T, 1):\n",
    "        for time_step, cc_value in enumerate(feature_vector, 1):\n",
    "            ## Create dict of CC keys (CC) and value a dict (X)\n",
    "            if not isinstance(dict_of_cc_dicts_list_of_timestep_values[feature_idx], dict):\n",
    "                dict_of_cc_dicts_list_of_timestep_values[feature_idx] = dict.fromkeys(list(range(1,27)), 0)\n",
    "            ## Create list (L) as value inside the dict (X). In the list (L) we will append all values \n",
    "            ## corresponding to the timestep (key of X) and depending on the channel (key of CC). \n",
    "            if not isinstance(dict_of_cc_dicts_list_of_timestep_values[feature_idx][time_step], list):\n",
    "                dict_of_cc_dicts_list_of_timestep_values[feature_idx][time_step] = list()\n",
    "            ## Append value for the current CC and corresponding time step\n",
    "            dict_of_cc_dicts_list_of_timestep_values[feature_idx][time_step].append(cc_value)\n",
    "\n",
    "# Save as pickles\n",
    "with open('Data\\\\dict_of_cc_dicts_list_of_timestep_values.pkl', 'wb') as handle:\n",
    "    pickle.dump(dict_of_cc_dicts_list_of_timestep_values, handle, protocol=pickle.HIGHEST_PROTOCOL)"
   ]
  },
  {
   "cell_type": "code",
   "execution_count": null,
   "metadata": {},
   "outputs": [],
   "source": [
    "import pickle\n",
    "\n",
    "## Loading dictionary so it can be seen how it looks\n",
    "with open('Data\\\\dict_of_cc_dicts_list_of_timestep_values.pkl', 'rb') as handle:\n",
    "    dict_of_cc_dicts_modified = pickle.load(handle)"
   ]
  },
  {
   "cell_type": "code",
   "execution_count": null,
   "metadata": {},
   "outputs": [],
   "source": [
    "## List with values for CC channel=1 and timestep=20\n",
    "## It can be observed that only 43 samples from the dataset have values for CC channel=1 at timstep=20.\n",
    "## Indexing for CC channels range is: 1 to 12\n",
    "## Indexing for timesteps range is: 1 to 26\n",
    "print(dict_of_cc_dicts_modified[1][20])\n",
    "print(len(dict_of_cc_dicts_modified[1][20]))"
   ]
  },
  {
   "cell_type": "code",
   "execution_count": null,
   "metadata": {},
   "outputs": [],
   "source": [
    "## Processing the dataset with the class ProcessingMissingData\n",
    "from processing_missing_data import ProcessingMissingData\n",
    "import pickle\n",
    "\n",
    "# Load train data\n",
    "\n",
    "## Process the data with the sampler and segmenter\n",
    "with open('Data\\\\train_inputs.pkl', 'rb') as handle:\n",
    "    list_of_trains = pickle.load(handle)\n",
    "\n",
    "processing_missing_data_obj = ProcessingMissingData()\n",
    "list_of_processed_trains = processing_missing_data_obj.get_processed_dataset(list_of_data=list_of_trains, type='mean')"
   ]
  },
  {
   "cell_type": "code",
   "execution_count": null,
   "metadata": {},
   "outputs": [],
   "source": [
    "## Comparison with the raw training data for the last sample which has only 9 timesteps.\n",
    "\n",
    "print(len(list_of_trains[269]))\n",
    "print(len(list_of_processed_trains[269]))"
   ]
  },
  {
   "cell_type": "code",
   "execution_count": null,
   "metadata": {},
   "outputs": [],
   "source": [
    "import matplotlib.pyplot as plt\n",
    "\n",
    "## Test visuzalization before processing\n",
    "for count, item in enumerate(list_of_trains):\n",
    "    for feature_idx, feature_vector in enumerate(item.T):\n",
    "        if feature_idx == 0:\n",
    "            plt.plot(feature_vector)\n",
    "        break\n",
    "    if count == 2:\n",
    "        break"
   ]
  },
  {
   "cell_type": "code",
   "execution_count": null,
   "metadata": {},
   "outputs": [],
   "source": [
    "import matplotlib.pyplot as plt\n",
    "\n",
    "## Test visuzalization before processing\n",
    "for count, item in enumerate(list_of_processed_trains):\n",
    "    for feature_idx, feature_vector in enumerate(item.T):\n",
    "        if feature_idx == 0:\n",
    "            plt.plot(feature_vector)\n",
    "        break\n",
    "    if count == 2:\n",
    "        break"
   ]
  },
  {
   "cell_type": "code",
   "execution_count": null,
   "metadata": {},
   "outputs": [],
   "source": [
    "import numpy as np\n",
    "\n",
    "CC_channel1 = 1\n",
    "CC_channel2 = 2\n",
    "timestep_ = 21\n",
    "\n",
    "## 21 here equals to 20 on the plot as of indexing starts from 0\n",
    "print(\"Mean value for CC channel {} and timestep {}: {}\".format(CC_channel1, timestep_, np.mean(dict_of_cc_dicts_modified[CC_channel1][timestep_])))\n",
    "print(\"Mean value for CC channel {} and timestep {}: {}\".format(CC_channel2, timestep_, np.mean(dict_of_cc_dicts_modified[CC_channel2][timestep_])))"
   ]
  },
  {
   "cell_type": "code",
   "execution_count": null,
   "metadata": {},
   "outputs": [],
   "source": [
    "for cc_channel_key in dict_of_cc_dicts_modified:\n",
    "    mod_dict = dict_of_cc_dicts_modified[cc_channel_key]\n",
    "    for timestep_key, list_values in mod_dict.items():\n",
    "        print(\"Timestep: {} | Values count: {}\".format(timestep_key, len(list_values)))\n",
    "    break"
   ]
  },
  {
   "cell_type": "code",
   "execution_count": null,
   "metadata": {},
   "outputs": [],
   "source": [
    "mod_dict"
   ]
  },
  {
   "cell_type": "code",
   "execution_count": null,
   "metadata": {},
   "outputs": [],
   "source": []
  }
 ]
}