{
 "metadata": {
  "language_info": {
   "codemirror_mode": {
    "name": "ipython",
    "version": 3
   },
   "file_extension": ".py",
   "mimetype": "text/x-python",
   "name": "python",
   "nbconvert_exporter": "python",
   "pygments_lexer": "ipython3",
   "version": "3.8.5-final"
  },
  "orig_nbformat": 2,
  "kernelspec": {
   "name": "python3",
   "display_name": "Python 3",
   "language": "python"
  }
 },
 "nbformat": 4,
 "nbformat_minor": 2,
 "cells": [
  {
   "cell_type": "code",
   "execution_count": null,
   "metadata": {},
   "outputs": [],
   "source": [
    "import numpy as np"
   ]
  },
  {
   "cell_type": "code",
   "execution_count": null,
   "metadata": {},
   "outputs": [],
   "source": [
    "import pickle\n",
    "\n",
    "## Process the data with the sampler and segmenter\n",
    "with open('Data\\\\train_inputs.pkl', 'rb') as handle:\n",
    "    list_of_trains = pickle.load(handle)"
   ]
  },
  {
   "cell_type": "code",
   "execution_count": null,
   "metadata": {},
   "outputs": [],
   "source": [
    "list_of_trains[2]"
   ]
  },
  {
   "cell_type": "code",
   "execution_count": null,
   "metadata": {},
   "outputs": [],
   "source": [
    "list_of_trains[0].T[0]"
   ]
  },
  {
   "cell_type": "code",
   "execution_count": null,
   "metadata": {
    "tags": []
   },
   "outputs": [],
   "source": [
    "dict_of_features_timeseries_len = dict()\n",
    "for item in list_of_trains:\n",
    "    for feature_idx, feature_vector in enumerate(item.T):\n",
    "        if not feature_idx in dict_of_features_timeseries_len:\n",
    "            dict_of_features_timeseries_len[feature_idx] = []\n",
    "        dict_of_features_timeseries_len[feature_idx].append(len(feature_vector))"
   ]
  },
  {
   "cell_type": "code",
   "execution_count": null,
   "metadata": {},
   "outputs": [],
   "source": [
    "import numpy as np\n",
    "for feature_idx, count_timeseries_steps in dict_of_features_timeseries_len.items():\n",
    "    print(count_timeseries_steps)\n",
    "    print(\"CC channel: {} | Mean length of timeseries: {} | Max len: {} | Min len: {}\".format(feature_idx, np.mean(count_timeseries_steps), np.max(count_timeseries_steps), np.min(count_timeseries_steps)))"
   ]
  },
  {
   "cell_type": "code",
   "execution_count": null,
   "metadata": {},
   "outputs": [],
   "source": [
    "import matplotlib.pyplot as plt\n",
    "\n",
    "counts = np.bincount(count_timeseries_steps)\n",
    "\n",
    "plt.hist(count_timeseries_steps, bins='auto', color='purple',\n",
    "                            alpha=0.9, rwidth=0.85)\n",
    "plt.grid(axis='y', alpha=1)\n",
    "plt.xlabel('Length of time-series for CC #12')\n",
    "plt.ylabel('Frequency')\n",
    "#plt.title('Distribution of length of time-series for CC #12 for the training data')"
   ]
  },
  {
   "cell_type": "code",
   "execution_count": null,
   "metadata": {},
   "outputs": [],
   "source": [
    "## METHOD FOR MISSING VALUES BELOW"
   ]
  },
  {
   "cell_type": "code",
   "execution_count": null,
   "metadata": {
    "tags": []
   },
   "outputs": [],
   "source": [
    "## Test visuzalization before processing\n",
    "for count, item in enumerate(list_of_trains):\n",
    "    for feature_idx, feature_vector in enumerate(item.T):\n",
    "        if feature_idx == 0:\n",
    "            plt.plot(feature_vector)\n",
    "        break\n",
    "    if count == 1:\n",
    "        break"
   ]
  },
  {
   "cell_type": "code",
   "execution_count": null,
   "metadata": {},
   "outputs": [],
   "source": [
    "import pickle\n",
    "\n",
    "inside_dict_of_time_steps_values = dict.fromkeys(list(range(1,27)), 0)\n",
    "dict_of_cc_dicts_list_of_timestep_values = dict.fromkeys(list(range(1,13)), 0)\n",
    "## Creating a dictionary with key CC channel index and value another dictionary. The second dictionary is\n",
    "## with key timestep index (1-26 as 26 is the max length of timestep in the dataset) and value a list. \n",
    "## In this list, we are appending every value for the corresponding CC channel and timestep index.\n",
    "## This structure gives us the opportunity to compute mean/median/std etc for each CC channel and all values that\n",
    "## belong to every timestep for every sample.\n",
    "## Basically every list ([sample1_t_x, sample2_t_x..., sample270_t_x]) corresponds to one timestep, where sample1_t_x ## corresponds to the value for sample1 at timestep t_x. Now, having multiple lists, where each corresponds to a single timestep from 1 to 26 (26 is the max timestep in the dataset) can help us find missing values at certain timesteps.\n",
    "# EXAMPLE: Let's imagine we have a sample with length of its timeseries = 9 and we want to compute the rest of the timesteps for CC channel 1. This means we need to fill values for timesteps from 10 to 26. We are starting an iterative process from 10 to 26, I example for timestep 10. We get the list at:\n",
    "## list_t10 = dict_of_cc_dicts_list_of_timestep_values[1][10], 1 - CC channel, 10 - timestep index. Let's call this list \"list_t10\". We want to set a value for the sample for timestep 10 so one reasonable way to do so is to calculate the mean of the elements in \"list_t10\". Therefore, we are averaging over all values at timestep 10 for CC 1 for all samples that have a value there. We set the mean value as a timestep 10 for our sample. Repeat for every missing timestep value.\n",
    "for count, item in enumerate(list_of_trains):\n",
    "    for feature_idx, feature_vector in enumerate(item.T, 1):\n",
    "        for time_step, cc_value in enumerate(feature_vector, 1):\n",
    "            ## Create dict of CC keys (CC) and value a dict (X)\n",
    "            if not isinstance(dict_of_cc_dicts_list_of_timestep_values[feature_idx], dict):\n",
    "                dict_of_cc_dicts_list_of_timestep_values[feature_idx] = dict.fromkeys(list(range(1,27)), 0)\n",
    "            ## Create list (L) as value inside the dict (X). In the list (L) we will append all values \n",
    "            ## corresponding to the timestep (key of X) and depending on the channel (key of CC). \n",
    "            if not isinstance(dict_of_cc_dicts_list_of_timestep_values[feature_idx][time_step], list):\n",
    "                dict_of_cc_dicts_list_of_timestep_values[feature_idx][time_step] = list()\n",
    "            ## Append value for the current CC and corresponding time step\n",
    "            dict_of_cc_dicts_list_of_timestep_values[feature_idx][time_step].append(cc_value)\n",
    "\n",
    "# Save as pickles\n",
    "with open('Data\\\\dict_of_cc_dicts_list_of_timestep_values.pkl', 'wb') as handle:\n",
    "    pickle.dump(dict_of_cc_dicts_list_of_timestep_values, handle, protocol=pickle.HIGHEST_PROTOCOL)"
   ]
  },
  {
   "cell_type": "code",
   "execution_count": null,
   "metadata": {},
   "outputs": [],
   "source": [
    "import pickle\n",
    "\n",
    "## Loading dictionary so it can be seen how it looks\n",
    "with open('Data\\\\dict_of_cc_dicts_list_of_timestep_values.pkl', 'rb') as handle:\n",
    "    dict_of_cc_dicts_modified = pickle.load(handle)"
   ]
  },
  {
   "cell_type": "code",
   "execution_count": null,
   "metadata": {},
   "outputs": [],
   "source": [
    "## List with values for CC channel=1 and timestep=20\n",
    "## It can be observed that only 43 samples from the dataset have values for CC channel=1 at timstep=20.\n",
    "## Indexing for CC channels range is: 1 to 12\n",
    "## Indexing for timesteps range is: 1 to 26\n",
    "print(dict_of_cc_dicts_modified[1][20])\n",
    "print(len(dict_of_cc_dicts_modified[1][20]))"
   ]
  },
  {
   "cell_type": "code",
   "execution_count": null,
   "metadata": {},
   "outputs": [],
   "source": [
    "## Processing the dataset with the class ProcessingMissingData\n",
    "from processing_missing_data import ProcessingMissingData\n",
    "import pickle\n",
    "\n",
    "# Load train data\n",
    "\n",
    "## Process the data with the sampler and segmenter\n",
    "with open('Data\\\\train_inputs.pkl', 'rb') as handle:\n",
    "    list_of_trains = pickle.load(handle)\n",
    "\n",
    "processing_missing_data_obj = ProcessingMissingData()\n",
    "list_of_processed_trains = processing_missing_data_obj.get_processed_dataset(list_of_data=list_of_trains, type='mean')"
   ]
  },
  {
   "cell_type": "code",
   "execution_count": null,
   "metadata": {},
   "outputs": [],
   "source": [
    "## Comparison with the raw training data for the last sample which has only 9 timesteps.\n",
    "\n",
    "print(len(list_of_trains[269]))\n",
    "print(len(list_of_processed_trains[269]))"
   ]
  },
  {
   "cell_type": "code",
   "execution_count": null,
   "metadata": {},
   "outputs": [],
   "source": [
    "import matplotlib.pyplot as plt\n",
    "\n",
    "## Test visuzalization before processing\n",
    "for count, item in enumerate(list_of_trains):\n",
    "    for feature_idx, feature_vector in enumerate(item.T):\n",
    "        if feature_idx == 0:\n",
    "            plt.plot(feature_vector)\n",
    "        break\n",
    "    if count == 2:\n",
    "        break"
   ]
  },
  {
   "cell_type": "code",
   "execution_count": null,
   "metadata": {},
   "outputs": [],
   "source": [
    "import matplotlib.pyplot as plt\n",
    "\n",
    "## Test visuzalization before processing\n",
    "for count, item in enumerate(list_of_processed_trains):\n",
    "    for feature_idx, feature_vector in enumerate(item.T):\n",
    "        if feature_idx == 0:\n",
    "            plt.plot(feature_vector)\n",
    "        break\n",
    "    if count == 2:\n",
    "        break"
   ]
  },
  {
   "cell_type": "code",
   "execution_count": null,
   "metadata": {},
   "outputs": [],
   "source": [
    "import numpy as np\n",
    "\n",
    "CC_channel1 = 1\n",
    "CC_channel2 = 2\n",
    "timestep_ = 21\n",
    "\n",
    "## 21 here equals to 20 on the plot as of indexing starts from 0\n",
    "print(\"Mean value for CC channel {} and timestep {}: {}\".format(CC_channel1, timestep_, np.mean(dict_of_cc_dicts_modified[CC_channel1][timestep_])))\n",
    "print(\"Mean value for CC channel {} and timestep {}: {}\".format(CC_channel2, timestep_, np.mean(dict_of_cc_dicts_modified[CC_channel2][timestep_])))"
   ]
  },
  {
   "cell_type": "code",
   "execution_count": null,
   "metadata": {},
   "outputs": [],
   "source": [
    "for cc_channel_key in dict_of_cc_dicts_modified:\n",
    "    mod_dict = dict_of_cc_dicts_modified[cc_channel_key]\n",
    "    for timestep_key, list_values in mod_dict.items():\n",
    "        print(\"Timestep: {} | Values count: {}\".format(timestep_key, len(list_values)))\n",
    "    break"
   ]
  },
  {
   "cell_type": "code",
   "execution_count": null,
   "metadata": {},
   "outputs": [],
   "source": [
    "mod_dict"
   ]
  },
  {
   "cell_type": "code",
   "execution_count": null,
   "metadata": {},
   "outputs": [],
   "source": []
  }
 ]
}